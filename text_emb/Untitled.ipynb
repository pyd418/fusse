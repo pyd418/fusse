{
 "cells": [
  {
   "cell_type": "code",
   "execution_count": 1,
   "metadata": {},
   "outputs": [],
   "source": [
    "import pandas as pd\n",
    "import numpy as np"
   ]
  },
  {
   "cell_type": "code",
   "execution_count": 8,
   "metadata": {},
   "outputs": [],
   "source": [
    "df = pd.read_table(\"./data/fb15k2/train2id.txt\",\"r\",encoding=\"utf-8\",header=None,delimiter=\" \")"
   ]
  },
  {
   "cell_type": "code",
   "execution_count": 10,
   "metadata": {},
   "outputs": [],
   "source": [
    "data_list = list(zip(df[0],df[1],df[2]))"
   ]
  },
  {
   "cell_type": "code",
   "execution_count": 12,
   "metadata": {},
   "outputs": [],
   "source": [
    "data_list = np.array(data_list)"
   ]
  },
  {
   "cell_type": "code",
   "execution_count": 26,
   "metadata": {},
   "outputs": [],
   "source": [
    "import DataLoader as dataloader"
   ]
  },
  {
   "cell_type": "code",
   "execution_count": 27,
   "metadata": {},
   "outputs": [
    {
     "ename": "TypeError",
     "evalue": "'module' object is not callable",
     "output_type": "error",
     "traceback": [
      "\u001b[0;31m---------------------------------------------------------------------------\u001b[0m",
      "\u001b[0;31mTypeError\u001b[0m                                 Traceback (most recent call last)",
      "\u001b[0;32m<ipython-input-27-ef90e37c230b>\u001b[0m in \u001b[0;36m<module>\u001b[0;34m()\u001b[0m\n\u001b[1;32m      2\u001b[0m \u001b[0mvalid_path\u001b[0m \u001b[0;34m=\u001b[0m \u001b[0;34m\"./data/fb15k2/valid2id.txt\"\u001b[0m\u001b[0;34m\u001b[0m\u001b[0m\n\u001b[1;32m      3\u001b[0m \u001b[0mtest_path\u001b[0m \u001b[0;34m=\u001b[0m \u001b[0;34m\"./data/fb15k2/test2id.txt\"\u001b[0m\u001b[0;34m\u001b[0m\u001b[0m\n\u001b[0;32m----> 4\u001b[0;31m \u001b[0mdata_loader\u001b[0m \u001b[0;34m=\u001b[0m \u001b[0mdataloader\u001b[0m\u001b[0;34m(\u001b[0m\u001b[0mtrain_path\u001b[0m\u001b[0;34m,\u001b[0m \u001b[0mvalid_path\u001b[0m\u001b[0;34m,\u001b[0m \u001b[0mtest_path\u001b[0m\u001b[0;34m)\u001b[0m\u001b[0;34m\u001b[0m\u001b[0m\n\u001b[0m",
      "\u001b[0;31mTypeError\u001b[0m: 'module' object is not callable"
     ]
    }
   ],
   "source": [
    "train_path = \"./data/fb15k2/train2id.txt\"\n",
    "valid_path = \"./data/fb15k2/valid2id.txt\"\n",
    "test_path = \"./data/fb15k2/test2id.txt\"\n",
    "data_loader = dataloader(train_path, valid_path, test_path)"
   ]
  },
  {
   "cell_type": "code",
   "execution_count": 1,
   "metadata": {},
   "outputs": [
    {
     "name": "stderr",
     "output_type": "stream",
     "text": [
      "/home/alexlau/anaconda3/lib/python3.6/importlib/_bootstrap.py:219: RuntimeWarning: numpy.dtype size changed, may indicate binary incompatibility. Expected 96, got 88\n",
      "  return f(*args, **kwds)\n",
      "/home/alexlau/anaconda3/lib/python3.6/site-packages/h5py/__init__.py:36: FutureWarning: Conversion of the second argument of issubdtype from `float` to `np.floating` is deprecated. In future, it will be treated as `np.float64 == np.dtype(float).type`.\n",
      "  from ._conv import register_converters as _register_converters\n",
      "/home/alexlau/anaconda3/lib/python3.6/importlib/_bootstrap.py:219: RuntimeWarning: numpy.dtype size changed, may indicate binary incompatibility. Expected 96, got 88\n",
      "  return f(*args, **kwds)\n",
      "/home/alexlau/anaconda3/lib/python3.6/importlib/_bootstrap.py:219: RuntimeWarning: numpy.dtype size changed, may indicate binary incompatibility. Expected 96, got 88\n",
      "  return f(*args, **kwds)\n",
      "/home/alexlau/anaconda3/lib/python3.6/importlib/_bootstrap.py:219: RuntimeWarning: numpy.dtype size changed, may indicate binary incompatibility. Expected 96, got 88\n",
      "  return f(*args, **kwds)\n"
     ]
    }
   ],
   "source": [
    "import tensorflow as tf"
   ]
  },
  {
   "cell_type": "code",
   "execution_count": 2,
   "metadata": {},
   "outputs": [
    {
     "name": "stderr",
     "output_type": "stream",
     "text": [
      "/home/alexlau/anaconda3/lib/python3.6/importlib/_bootstrap.py:219: RuntimeWarning: numpy.dtype size changed, may indicate binary incompatibility. Expected 96, got 88\n",
      "  return f(*args, **kwds)\n",
      "/home/alexlau/anaconda3/lib/python3.6/importlib/_bootstrap.py:219: RuntimeWarning: numpy.dtype size changed, may indicate binary incompatibility. Expected 96, got 88\n",
      "  return f(*args, **kwds)\n"
     ]
    }
   ],
   "source": [
    "with tf.name_scope(\"rnn\") as sco:\n",
    "    input_x = tf.Variable(tf.random_uniform([100,100,100], -1.0, 1.0),name=\"input\")\n",
    "    cell = tf.contrib.rnn.LSTMCell(100,\n",
    "                                       forget_bias=1.0,\n",
    "                                       state_is_tuple=True,\n",
    "                                       reuse=tf.get_variable_scope().reuse)\n",
    "    cell = tf.contrib.rnn.DropoutWrapper(cell, output_keep_prob=0.5)\n",
    "    _initial_state = cell.zero_state(100, dtype=tf.float32)\n",
    "    \n",
    "    outputs, state = tf.nn.dynamic_rnn(cell,input_x,initial_state=_initial_state)\n",
    "    final_state = state"
   ]
  },
  {
   "cell_type": "code",
   "execution_count": 5,
   "metadata": {},
   "outputs": [],
   "source": [
    "with tf.name_scope(\"test\") as t:\n",
    "    x = tf.Variable(tf.random_uniform([100,100,100], -1.0, 1.0),name=\"x\")\n",
    "    y = tf.Variable(tf.random_uniform([100,100,100], -1.0, 1.0),name=\"y\")\n",
    "    z = tf.concat([x, y],axis = 2)\n",
    "    q = tf.reshape(z,[-1, 200])"
   ]
  },
  {
   "cell_type": "code",
   "execution_count": 14,
   "metadata": {},
   "outputs": [
    {
     "name": "stdout",
     "output_type": "stream",
     "text": [
      "(100, 100, 200)\n",
      "(10000, 200)\n"
     ]
    }
   ],
   "source": [
    "with tf.Session() as sess:\n",
    "    sess.run(tf.global_variables_initializer())\n",
    "#     a,b = sess.run([outputs,final_state])\n",
    "#     print(a.shape)\n",
    "#     print(b)\n",
    "    a = sess.run([z,q])\n",
    "    print(a[0].shape)\n",
    "    print(a[1].shape)"
   ]
  },
  {
   "cell_type": "code",
   "execution_count": 15,
   "metadata": {},
   "outputs": [
    {
     "name": "stdout",
     "output_type": "stream",
     "text": [
      "[3, 2]\n"
     ]
    }
   ],
   "source": [
    "li = [[1,2,3],[1,2]]\n",
    "lens = list(map(len,li))\n",
    "print(lens)"
   ]
  },
  {
   "cell_type": "code",
   "execution_count": 3,
   "metadata": {},
   "outputs": [],
   "source": [
    "def fun(first):\n",
    "    if first:\n",
    "        with tf.variable_scope(tf.get_variable_scope()) as sco:\n",
    "            w = tf.get_variable(\"xxx\",shape=[2,2], initializer=tf.contrib.layers.xavier_initializer())\n",
    "    else:\n",
    "        with tf.variable_scope(tf.get_variable_scope(),reuse=True):\n",
    "            w = tf.get_variable(\"xxx\",shape=[2,2], initializer=tf.contrib.layers.xavier_initializer())\n",
    "    return w"
   ]
  },
  {
   "cell_type": "code",
   "execution_count": 5,
   "metadata": {},
   "outputs": [],
   "source": [
    "with tf.variable_scope(\"v\") as sco:\n",
    "#     t1 = fun(first=True)\n",
    "    embedding = tf.Variable(tf.random_uniform([100,100,100,1], -1.0, 1.0),name=\"embedding\")\n",
    "    pool_1 = tf.nn.max_pool(embedding,strides=[1,4,1,1],ksize=[1,4,1,1],padding=\"VALID\")\n",
    "#     content_len = tf.constant([10]*10,dtype=tf.int32)\n",
    "#     content_len = tf.reshape(content_len,[-1,1])\n",
    "#     conv1_res = tf.layers.conv1d(embedding,\n",
    "#                          filters=100,\n",
    "#                          kernel_size=2,\n",
    "#                          padding='valid',\n",
    "#                          activation=tf.nn.relu,\n",
    "#                          kernel_initializer=tf.contrib.layers.xavier_initializer(),\n",
    "#                          name='conv1')\n",
    "#     conv1_maxpool_res = tf.layers.max_pooling1d(conv1_res,pool_size=4,strides=4,name='conv1_maxpool')\n",
    "#     embedding = tf.expand_dims(embedding,-1)\n",
    "    \n",
    "#     weight =  tf.Variable(tf.random_uniform([1,100,1,100], -1.0, 1.0),name=\"conv_weight\")\n",
    "#     conv1_res = tf.nn.conv2d(embedding,filter=weight,padding=\"VALID\",strides=[1,1,100,1],name=\"conv1\")\n",
    "#     pool_res = tf.nn.max_pool(conv1_res,ksize=[1,4,1,1],strides=[1,4,1,1],padding='SAME')\n",
    "    \n",
    "# #     pool_res = tf.reshape(pool_res,[100,-1,100])\n",
    "#     pool_res_1 = tf.reduce_sum(pool_res,2)\n",
    "#     pool_res_2 = tf.expand_dims(pool_res,-1)\n",
    "    \n",
    "#     weight_2 = tf.Variable(tf.random_uniform([1,100,1,100], -1.0, 1.0),name=\"conv_weight\")\n",
    "#     conv2_res=tf.nn.conv2d(pool_res_,filter=weight_2, padding=\"VALID\", strides=[1,1,100,1],name=\"conv2\")\n",
    "    \n",
    "    \n",
    "#     pool2_res = tf.nn.avg_pool(conv2_res,ksize=[1,10,1,1],strides=[1,10,1,1],padding=\"SAME\",name=\"pool_2\")\n",
    "    \n",
    "#     con = tf.Variable([[[1,2,3,4]],[[5,6,7,8]],[[5,6,7,8]]],dtype=tf.int32)\n",
    "#     con_1 = tf.reduce_sum(con,1)\n",
    "    \n",
    "#     pool2_res_ = tf.reshape(pool2_res,[10,10])\n",
    "#     c_res = tf.nn.conv1d(embedding,filters=[10.0,1.0,10.0],padding=\"VALID\",stride=1,name=\"conv2\")"
   ]
  },
  {
   "cell_type": "code",
   "execution_count": 6,
   "metadata": {},
   "outputs": [],
   "source": [
    "with tf.variable_scope(\"demo\",reuse=tf.AUTO_REUSE) as demo:\n",
    "    d = tf.constant([[1,2,3,-4],[1,2,3,4]],dtype=tf.int32)\n",
    "    res = tf.reduce_sum(d, 1, keep_dims=True)\n",
    "    \n",
    "    d1 = tf.reduce_sum(d)\n",
    "#     _,ids = tf.nn.top_k(d, k=4)\n",
    "#     word2vec = tf.get_variable(name = \"word2vec\", shape = [1, \n",
    "#                                3], initializer = tf.contrib.layers.xavier_initializer(uniform = False))\n",
    "#     d = [[1,2,3]]\n",
    "#     op = tf.assign(word2vec,d)"
   ]
  },
  {
   "cell_type": "code",
   "execution_count": 9,
   "metadata": {},
   "outputs": [
    {
     "name": "stdout",
     "output_type": "stream",
     "text": [
      "[[ 2]\n",
      " [10]] 12\n"
     ]
    }
   ],
   "source": [
    "with tf.Session() as sess:\n",
    "    sess.run(tf.global_variables_initializer())\n",
    "    x1= sess.run(d1)\n",
    "    print(res.eval(),x1)"
   ]
  },
  {
   "cell_type": "code",
   "execution_count": null,
   "metadata": {},
   "outputs": [],
   "source": []
  },
  {
   "cell_type": "code",
   "execution_count": 2,
   "metadata": {},
   "outputs": [],
   "source": [
    "import numpy as np"
   ]
  },
  {
   "cell_type": "code",
   "execution_count": 72,
   "metadata": {},
   "outputs": [],
   "source": [
    "li = np.random.permutation(np.arange(10))"
   ]
  },
  {
   "cell_type": "code",
   "execution_count": 75,
   "metadata": {},
   "outputs": [
    {
     "name": "stdout",
     "output_type": "stream",
     "text": [
      "6\n"
     ]
    }
   ],
   "source": [
    "for i in li[0:1]:\n",
    "    print(i)"
   ]
  },
  {
   "cell_type": "code",
   "execution_count": 3,
   "metadata": {},
   "outputs": [],
   "source": [
    "li = [[1,2,3],[4,5,6]]\n",
    "li = np.array(li)"
   ]
  },
  {
   "cell_type": "code",
   "execution_count": 4,
   "metadata": {},
   "outputs": [
    {
     "data": {
      "text/plain": [
       "2"
      ]
     },
     "execution_count": 4,
     "metadata": {},
     "output_type": "execute_result"
    }
   ],
   "source": [
    "len(li)"
   ]
  },
  {
   "cell_type": "code",
   "execution_count": 11,
   "metadata": {},
   "outputs": [],
   "source": [
    "dic = {\"1\":\"2\",\"10\":\"3\",\"3\":\"4\"}"
   ]
  },
  {
   "cell_type": "code",
   "execution_count": 12,
   "metadata": {},
   "outputs": [
    {
     "name": "stdout",
     "output_type": "stream",
     "text": [
      "0 1\n",
      "1 10\n",
      "2 3\n"
     ]
    }
   ],
   "source": [
    "for index,item in enumerate(dic):\n",
    "    print(index,item)"
   ]
  },
  {
   "cell_type": "code",
   "execution_count": 13,
   "metadata": {},
   "outputs": [],
   "source": [
    "import numpy as np"
   ]
  },
  {
   "cell_type": "code",
   "execution_count": 20,
   "metadata": {},
   "outputs": [],
   "source": [
    "def func():\n",
    "    data_list = [1,2,3,4,5,6,7,8,9]\n",
    "    batch_size = 2\n",
    "    batch_num = (len(data_list)-1) //batch_size +1\n",
    "    rag = np.random.permutation(np.arange(batch_num))\n",
    "    print(rag)\n",
    "    for index in rag:\n",
    "        start = index*batch_size\n",
    "        end = start+batch_size\n",
    "        end =min(len(data_list),end)\n",
    "        yield data_list[start:end]"
   ]
  },
  {
   "cell_type": "code",
   "execution_count": 21,
   "metadata": {},
   "outputs": [
    {
     "name": "stdout",
     "output_type": "stream",
     "text": [
      "[4 2 3 0 1]\n",
      "[9]\n",
      "[5, 6]\n",
      "[7, 8]\n",
      "[1, 2]\n",
      "[3, 4]\n"
     ]
    }
   ],
   "source": [
    "for item in func():\n",
    "    print(item)"
   ]
  },
  {
   "cell_type": "code",
   "execution_count": null,
   "metadata": {},
   "outputs": [],
   "source": []
  }
 ],
 "metadata": {
  "kernelspec": {
   "display_name": "Python 3",
   "language": "python",
   "name": "python3"
  },
  "language_info": {
   "codemirror_mode": {
    "name": "ipython",
    "version": 3
   },
   "file_extension": ".py",
   "mimetype": "text/x-python",
   "name": "python",
   "nbconvert_exporter": "python",
   "pygments_lexer": "ipython3",
   "version": "3.6.5"
  }
 },
 "nbformat": 4,
 "nbformat_minor": 2
}
